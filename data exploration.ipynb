{
 "cells": [
  {
   "cell_type": "code",
   "execution_count": 3,
   "metadata": {},
   "outputs": [],
   "source": [
    "import numpy as np\n",
    "import pandas as pd\n",
    "from matplotlib import pyplot as plt\n",
    "from matplotlib.pyplot import figure"
   ]
  },
  {
   "cell_type": "code",
   "execution_count": 4,
   "metadata": {},
   "outputs": [],
   "source": [
    "df = pd.read_csv('datasets/alldat.csv')"
   ]
  },
  {
   "cell_type": "code",
   "execution_count": 5,
   "metadata": {},
   "outputs": [
    {
     "data": {
      "text/plain": [
       "['.ipynb_checkpoints',\n",
       " 'data exploration.ipynb',\n",
       " 'datasets',\n",
       " 'Price prediction.ipynb',\n",
       " 'Untitled.ipynb']"
      ]
     },
     "execution_count": 5,
     "metadata": {},
     "output_type": "execute_result"
    }
   ],
   "source": [
    "import os\n",
    "os.listdir(\"./\")"
   ]
  },
  {
   "cell_type": "code",
   "execution_count": 6,
   "metadata": {},
   "outputs": [
    {
     "data": {
      "text/plain": [
       "(97890, 42)"
      ]
     },
     "execution_count": 6,
     "metadata": {},
     "output_type": "execute_result"
    }
   ],
   "source": [
    "dat = np.array(df)[:,1:]\n",
    "dat.shape"
   ]
  },
  {
   "cell_type": "code",
   "execution_count": 7,
   "metadata": {},
   "outputs": [
    {
     "name": "stdout",
     "output_type": "stream",
     "text": [
      "[2.248500e+02 1.162400e+02 6.262000e+01 7.991200e+02 1.157300e+02\n",
      " 7.767800e+02 3.656500e+01 8.559000e+01 5.402000e+01 1.169545e+03\n",
      " 2.255000e+01 1.765400e+02 8.720000e+01 9.079000e+01 2.954000e+01\n",
      " 1.618000e+02 7.890000e+01 1.141900e+02 5.581000e+01 1.184000e+02\n",
      " 1.352000e+02 2.544000e+03 1.390000e+03 4.120000e+02 3.000000e+02\n",
      " 1.479000e+04 1.000000e+02 1.000000e+00 0.000000e+00 1.300000e+03\n",
      " 0.000000e+00 2.946300e+04 0.000000e+00 3.150000e+03 1.000000e+02\n",
      " 0.000000e+00 4.300000e+01 1.000000e+02 0.000000e+00 2.510000e+03\n",
      " 2.000000e+00 4.000000e+02]\n"
     ]
    }
   ],
   "source": [
    "print(dat[0,])"
   ]
  },
  {
   "cell_type": "code",
   "execution_count": 8,
   "metadata": {},
   "outputs": [
    {
     "name": "stdout",
     "output_type": "stream",
     "text": [
      "390\n",
      "251\n"
     ]
    }
   ],
   "source": [
    "nMin = 390\n",
    "nDay = int(dat.shape[0]/nMin)\n",
    "print(nMin)\n",
    "print(nDay)\n",
    "\n",
    "window = 21"
   ]
  },
  {
   "cell_type": "code",
   "execution_count": 9,
   "metadata": {},
   "outputs": [],
   "source": [
    "def createCNNFeatureVectors(dat, window):\n",
    "    vec_list = []\n",
    "    for day in range(nDay):\n",
    "        base = day * nMin\n",
    "        for min_ind in range(window, nDay):\n",
    "            vec = np.zeros((2, 21, window))\n",
    "            vec[0,:,:] = dat[(base+min_ind-window):(base+min_ind), :21].T\n",
    "            vec[1,:,:] = dat[(base+min_ind-window):(base+min_ind), 21:].T\n",
    "            vec_list.append(vec)\n",
    "    return np.array(vec_list)\n",
    "            "
   ]
  },
  {
   "cell_type": "code",
   "execution_count": 25,
   "metadata": {},
   "outputs": [],
   "source": [
    "def createClassLabels(dat, window, yCol):\n",
    "    labels = np.array(nDay * (nMin - window))\n",
    "    for day in range(nDay):\n",
    "        base = day * nMin\n",
    "        for min_ind in range(window, nDay):\n",
    "            labels[day * (nMin - window) : (day + 1) * (nMin - window)] = dat[(base+min_ind-window+1):(base+min_ind+1), yCol] / dat[(base+min_ind-window):(base+min_ind), yCol] - 1"
   ]
  },
  {
   "cell_type": "code",
   "execution_count": 10,
   "metadata": {
    "scrolled": true
   },
   "outputs": [
    {
     "data": {
      "text/plain": [
       "389632320"
      ]
     },
     "execution_count": 10,
     "metadata": {},
     "output_type": "execute_result"
    }
   ],
   "source": [
    "X_dat = createCNNFeatureVectors(dat, 20)\n",
    "X_dat.nbytes"
   ]
  },
  {
   "cell_type": "code",
   "execution_count": 11,
   "metadata": {},
   "outputs": [],
   "source": [
    "changes = dat[1:] - dat[:-1]"
   ]
  },
  {
   "cell_type": "code",
   "execution_count": 20,
   "metadata": {},
   "outputs": [
    {
     "name": "stdout",
     "output_type": "stream",
     "text": [
      "[ 4.29363871e-04  5.41838204e-04  2.34653536e-04  2.59794257e-03\n",
      "  6.21213824e-04  2.75434421e-03  9.82745763e-05  1.10733075e-02\n",
      " -1.01134959e-05 -9.91853017e-03  7.14074104e-05 -3.77161887e-04\n",
      "  2.03802266e-04 -7.14074104e-05  6.84959495e-05  6.01293302e-04\n",
      "  3.60510374e-04 -7.69289706e-04  5.01588534e-05  7.15095670e-05\n",
      "  5.56446587e-04]\n",
      "[0.05510104 0.08809776 0.0377387  0.50475875 0.08917401 0.485472\n",
      " 0.02213673 2.22870084 0.02760194 3.21386199 0.01818523 0.20117358\n",
      " 0.0517931  0.03124918 0.01785081 0.09380702 0.04193038 0.2291431\n",
      " 0.03371308 0.05280791 0.07056027]\n"
     ]
    }
   ],
   "source": [
    "mean_changes = np.zeros(21)\n",
    "sd_changes = np.zeros(21)\n",
    "for i in range(21):\n",
    "    mean_changes[i] = np.mean(changes[:,i])\n",
    "    sd_changes[i] = np.std(changes[:,i])\n",
    "print(mean_changes)\n",
    "print(sd_changes)"
   ]
  },
  {
   "cell_type": "code",
   "execution_count": 22,
   "metadata": {},
   "outputs": [],
   "source": [
    "returns = (dat[1:,:21] / dat[:-1,:21])-1"
   ]
  },
  {
   "cell_type": "code",
   "execution_count": 24,
   "metadata": {},
   "outputs": [
    {
     "name": "stdout",
     "output_type": "stream",
     "text": [
      "[ 1.77622143e-06  4.00779920e-06  3.32163678e-06  2.96299135e-06\n",
      "  4.46974924e-06  3.17859242e-06  2.54530023e-06  8.45311531e-05\n",
      " -2.67727506e-08 -6.76874603e-06  3.03345628e-06 -1.52323369e-06\n",
      "  2.26229344e-06 -7.45891947e-07  2.23762397e-06  3.29327838e-06\n",
      "  3.86814190e-06 -7.22884559e-06  1.04866126e-06  6.98997066e-07\n",
      "  3.55883197e-06]\n",
      "[0.00022634 0.00058119 0.00051107 0.00053046 0.00055909 0.00051972\n",
      " 0.00056525 0.0249915  0.00056982 0.00277245 0.00074195 0.00116914\n",
      " 0.00056187 0.00038084 0.00055058 0.00049758 0.00042836 0.00206378\n",
      " 0.00061191 0.00047332 0.00044859]\n"
     ]
    }
   ],
   "source": [
    "mean_returns = np.zeros(21)\n",
    "sd_returns = np.zeros(21)\n",
    "for i in range(21):\n",
    "    mean_returns[i] = np.mean(returns[:,i])\n",
    "    sd_returns[i] = np.std(returns[:,i])\n",
    "print(mean_returns)\n",
    "print(sd_returns)"
   ]
  },
  {
   "cell_type": "code",
   "execution_count": null,
   "metadata": {},
   "outputs": [],
   "source": [
    "import torch\n",
    "from torch import nn\n"
   ]
  },
  {
   "cell_type": "code",
   "execution_count": null,
   "metadata": {},
   "outputs": [],
   "source": [
    "class priceNet(nn.Module):\n",
    "    def __init__(self):\n",
    "        self.conv1 "
   ]
  }
 ],
 "metadata": {
  "kernelspec": {
   "display_name": "Python 3",
   "language": "python",
   "name": "python3"
  },
  "language_info": {
   "codemirror_mode": {
    "name": "ipython",
    "version": 3
   },
   "file_extension": ".py",
   "mimetype": "text/x-python",
   "name": "python",
   "nbconvert_exporter": "python",
   "pygments_lexer": "ipython3",
   "version": "3.6.5"
  }
 },
 "nbformat": 4,
 "nbformat_minor": 2
}
