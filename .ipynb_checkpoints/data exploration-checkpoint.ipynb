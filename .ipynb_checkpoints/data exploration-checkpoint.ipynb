{
 "cells": [
  {
   "cell_type": "code",
   "execution_count": 44,
   "metadata": {},
   "outputs": [],
   "source": [
    "import numpy as np\n",
    "import pandas as pd\n",
    "from matplotlib import pyplot as plt\n",
    "from matplotlib.pyplot import figure"
   ]
  },
  {
   "cell_type": "code",
   "execution_count": 51,
   "metadata": {},
   "outputs": [],
   "source": [
    "df = pd.read_csv('datasets/alldat.csv')"
   ]
  },
  {
   "cell_type": "code",
   "execution_count": 1,
   "metadata": {},
   "outputs": [
    {
     "data": {
      "text/plain": [
       "['.ipynb_checkpoints', '2017_M1_IEX.csv', 'Untitled.ipynb']"
      ]
     },
     "execution_count": 1,
     "metadata": {},
     "output_type": "execute_result"
    }
   ],
   "source": [
    "import os\n",
    "os.listdir(\"./\")"
   ]
  },
  {
   "cell_type": "code",
   "execution_count": 63,
   "metadata": {},
   "outputs": [
    {
     "data": {
      "text/plain": [
       "(97890, 42)"
      ]
     },
     "execution_count": 63,
     "metadata": {},
     "output_type": "execute_result"
    }
   ],
   "source": [
    "dat = np.array(df)[:,1:]\n",
    "dat.shape\n",
    "free(df)"
   ]
  },
  {
   "cell_type": "code",
   "execution_count": 64,
   "metadata": {},
   "outputs": [
    {
     "name": "stdout",
     "output_type": "stream",
     "text": [
      "[2.248500e+02 1.162400e+02 6.262000e+01 7.991200e+02 1.157300e+02\n",
      " 7.767800e+02 3.656500e+01 8.559000e+01 5.402000e+01 1.169545e+03\n",
      " 2.255000e+01 1.765400e+02 8.720000e+01 9.079000e+01 2.954000e+01\n",
      " 1.618000e+02 7.890000e+01 1.141900e+02 5.581000e+01 1.184000e+02\n",
      " 1.352000e+02 2.544000e+03 1.390000e+03 4.120000e+02 3.000000e+02\n",
      " 1.479000e+04 1.000000e+02 1.000000e+00 0.000000e+00 1.300000e+03\n",
      " 0.000000e+00 2.946300e+04 0.000000e+00 3.150000e+03 1.000000e+02\n",
      " 0.000000e+00 4.300000e+01 1.000000e+02 0.000000e+00 2.510000e+03\n",
      " 2.000000e+00 4.000000e+02]\n"
     ]
    }
   ],
   "source": [
    "print(dat[0,])"
   ]
  },
  {
   "cell_type": "code",
   "execution_count": 70,
   "metadata": {},
   "outputs": [
    {
     "name": "stdout",
     "output_type": "stream",
     "text": [
      "390\n",
      "251\n"
     ]
    }
   ],
   "source": [
    "nMin = 390\n",
    "nDay = int(dat.shape[0]/nMin)\n",
    "print(nMin)\n",
    "print(nDay)\n",
    "\n",
    "window = 21"
   ]
  },
  {
   "cell_type": "code",
   "execution_count": 80,
   "metadata": {},
   "outputs": [],
   "source": [
    "def createCNNFeatureVectors(dat, window):\n",
    "    vec_list = []\n",
    "    for day in range(nDay):\n",
    "        base = day * nMin\n",
    "        for min_ind in range(window, nDay):\n",
    "            vec = np.zeros((2, 21, window))\n",
    "            vec[0,:,:] = dat[(base+min_ind-window):(base+min_ind), :21].T\n",
    "            vec[1,:,:] = dat[(base+min_ind-window):(base+min_ind), 21:].T\n",
    "            vec_list.append(vec)\n",
    "    return np.array(vec_list)\n",
    "            "
   ]
  },
  {
   "cell_type": "code",
   "execution_count": null,
   "metadata": {},
   "outputs": [],
   "source": [
    "def createClassLabels(dat):\n",
    "    "
   ]
  },
  {
   "cell_type": "code",
   "execution_count": 85,
   "metadata": {
    "scrolled": true
   },
   "outputs": [
    {
     "data": {
      "text/plain": [
       "389632320"
      ]
     },
     "execution_count": 85,
     "metadata": {},
     "output_type": "execute_result"
    }
   ],
   "source": [
    "X_dat = createCNNFeatureVectors(dat, 20)\n",
    "X_dat.nbytes"
   ]
  },
  {
   "cell_type": "code",
   "execution_count": 86,
   "metadata": {},
   "outputs": [
    {
     "ename": "NameError",
     "evalue": "name 'free' is not defined",
     "output_type": "error",
     "traceback": [
      "\u001b[1;31m---------------------------------------------------------------------------\u001b[0m",
      "\u001b[1;31mNameError\u001b[0m                                 Traceback (most recent call last)",
      "\u001b[1;32m<ipython-input-86-896a50c87fa7>\u001b[0m in \u001b[0;36m<module>\u001b[1;34m()\u001b[0m\n\u001b[1;32m----> 1\u001b[1;33m \u001b[0mfree\u001b[0m\u001b[1;33m(\u001b[0m\u001b[0mdf\u001b[0m\u001b[1;33m)\u001b[0m\u001b[1;33m\u001b[0m\u001b[0m\n\u001b[0m",
      "\u001b[1;31mNameError\u001b[0m: name 'free' is not defined"
     ]
    }
   ],
   "source": []
  }
 ],
 "metadata": {
  "kernelspec": {
   "display_name": "Python 3",
   "language": "python",
   "name": "python3"
  },
  "language_info": {
   "codemirror_mode": {
    "name": "ipython",
    "version": 3
   },
   "file_extension": ".py",
   "mimetype": "text/x-python",
   "name": "python",
   "nbconvert_exporter": "python",
   "pygments_lexer": "ipython3",
   "version": "3.6.5"
  }
 },
 "nbformat": 4,
 "nbformat_minor": 2
}
